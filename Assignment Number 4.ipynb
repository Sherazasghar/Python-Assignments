{
 "cells": [
  {
   "cell_type": "code",
   "execution_count": 2,
   "id": "0a1f3a18",
   "metadata": {},
   "outputs": [
    {
     "name": "stdout",
     "output_type": "stream",
     "text": [
      "Enter a value346\n",
      "Enter Operator+\n",
      "Enter value624\n",
      "970\n"
     ]
    }
   ],
   "source": [
    "# 1. Make a calculator using Python with addition , subtraction , \n",
    "# multiplication ,division and power.\n",
    "a = int(input(\"Enter a value\"))\n",
    "opr = input(\"Enter Operator\")\n",
    "b = int(input(\"Enter value\"))\n",
    "if opr == \"+\":\n",
    "     print(a+b);\n",
    "elif opr == \"-\":\n",
    "     print(a-b);\n",
    "elif opr == \"*\":\n",
    "     print(a*b);\n",
    "elif opr == \"/\":\n",
    "     print(a/b);\n",
    "elif opr == \"**\":\n",
    "     print(a**b);\n",
    "else :\n",
    "    print (\"you enter a wrong value or operators\")"
   ]
  },
  {
   "cell_type": "code",
   "execution_count": 8,
   "id": "7a0aba60",
   "metadata": {},
   "outputs": [
    {
     "name": "stdout",
     "output_type": "stream",
     "text": [
      "61\n"
     ]
    }
   ],
   "source": [
    "# 4. Write a Python program to sum all the numeric items in a dictionary.\n",
    "d = {'a':12,'b':25,'c':24}\n",
    "values = d.values()\n",
    "total = sum(values)\n",
    "print(total)"
   ]
  },
  {
   "cell_type": "code",
   "execution_count": 40,
   "id": "b6f947b3",
   "metadata": {},
   "outputs": [
    {
     "name": "stdout",
     "output_type": "stream",
     "text": [
      "Key is present in the dictionary\n",
      "Key is not present in the dictionary\n"
     ]
    }
   ],
   "source": [
    "# 6. Write a Python script to check if a given key already exists in a \n",
    "# dictionary\n",
    "d = {1: 10, 2: 20, 3: 30, 4: 40, 5: 50, 6: 60}\n",
    "def is_key_present(x):\n",
    "    if x in d:\n",
    "        print('Key is present in the dictionary')\n",
    "    else:\n",
    "        print('Key is not present in the dictionary')\n",
    "is_key_present(5)\n",
    "is_key_present(9)"
   ]
  },
  {
   "cell_type": "code",
   "execution_count": 41,
   "id": "b9b5961f",
   "metadata": {},
   "outputs": [
    {
     "data": {
      "text/plain": [
       "True"
      ]
     },
     "execution_count": 41,
     "metadata": {},
     "output_type": "execute_result"
    }
   ],
   "source": [
    "d = {'a': 1, 'b': 2}\n",
    "'a' in d"
   ]
  },
  {
   "cell_type": "code",
   "execution_count": 42,
   "id": "eb20888a",
   "metadata": {},
   "outputs": [
    {
     "data": {
      "text/plain": [
       "False"
      ]
     },
     "execution_count": 42,
     "metadata": {},
     "output_type": "execute_result"
    }
   ],
   "source": [
    "'c' in d"
   ]
  },
  {
   "cell_type": "code",
   "execution_count": 3,
   "id": "97b9c57a",
   "metadata": {},
   "outputs": [
    {
     "name": "stdout",
     "output_type": "stream",
     "text": [
      "[26, 59, 14, 7]\n"
     ]
    }
   ],
   "source": [
    "# 5. Write a program to identify duplicate values from list.\n",
    "myList = [22,14,26,12,8, 14,5,26,7,59,7,26,59];\n",
    "newList = set()\n",
    "for i in myList:\n",
    "      if myList.count(i) >= 2:\n",
    "            newList.add(i)\n",
    "print(list(newList))"
   ]
  },
  {
   "cell_type": "code",
   "execution_count": 4,
   "id": "62539c59",
   "metadata": {},
   "outputs": [
    {
     "name": "stdout",
     "output_type": "stream",
     "text": [
      "4\n",
      "6\n",
      "3\n"
     ]
    }
   ],
   "source": [
    "# 2. Write a program to check if there is any numeric value in list using for \n",
    "# loop.\n",
    "list = [\"asd\", \"fgh\", 4,\"jkl\", 6, 3, \"qwe\"] \n",
    "for x in list: \n",
    "    if type(x) == int: \n",
    "        print(x)"
   ]
  },
  {
   "cell_type": "code",
   "execution_count": 6,
   "id": "2d725b67",
   "metadata": {},
   "outputs": [
    {
     "name": "stdout",
     "output_type": "stream",
     "text": [
      "{'a': 12, 'b': 23, 'c': 52, 'd': 62}\n"
     ]
    }
   ],
   "source": [
    "# 3. Write a Python script to add a key to a dictionary.\n",
    "my_dict = {'a':12,'b':23,'c':52,'d':62}\n",
    "print(my_dict)"
   ]
  },
  {
   "cell_type": "code",
   "execution_count": 7,
   "id": "02cc2159",
   "metadata": {},
   "outputs": [
    {
     "name": "stdout",
     "output_type": "stream",
     "text": [
      "{'a': 12, 'b': 23, 'c': 52, 'd': 62, 'e': '10', 'f': '20'}\n"
     ]
    }
   ],
   "source": [
    "my_dict.update({'e':\"10\",'f':\"20\"})\n",
    "print (my_dict)"
   ]
  }
 ],
 "metadata": {
  "kernelspec": {
   "display_name": "Python 3",
   "language": "python",
   "name": "python3"
  },
  "language_info": {
   "codemirror_mode": {
    "name": "ipython",
    "version": 3
   },
   "file_extension": ".py",
   "mimetype": "text/x-python",
   "name": "python",
   "nbconvert_exporter": "python",
   "pygments_lexer": "ipython3",
   "version": "3.8.8"
  }
 },
 "nbformat": 4,
 "nbformat_minor": 5
}
